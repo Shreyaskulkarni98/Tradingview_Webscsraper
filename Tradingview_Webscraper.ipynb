{
 "cells": [
  {
   "cell_type": "code",
   "execution_count": 36,
   "metadata": {},
   "outputs": [],
   "source": [
    "import time\n",
    "import pandas as pd\n",
    "from selenium import webdriver\n",
    "from selenium.webdriver.chrome.options import Options\n",
    "from bs4 import BeautifulSoup\n",
    "\n",
    "options = Options()\n",
    "options.headless = True\n",
    "options.add_argument(\"--window-size=1920,1200\")\n",
    "DRIVER_PATH = 'C:\\Program Files\\chromedriver_win32\\chromedriver.exe'\n",
    "\n",
    "def scrapeTradingview(url, industry_name):\n",
    "    driver2 = webdriver.Chrome(options=options, executable_path=DRIVER_PATH)\n",
    "    driver2.get(url)\n",
    "    elem = driver2.find_element_by_xpath(\"//span[@class='tv-load-more__btn']\")\n",
    "    while(elem.is_displayed()):\n",
    "        driver2.execute_script(\"arguments[0].click();\", elem)\n",
    "        time.sleep(5)\n",
    "    \n",
    "    soup = BeautifulSoup(driver2.page_source, 'html.parser')\n",
    "    ticker_data = []\n",
    "    stockname_data = []\n",
    "\n",
    "    for tr in soup.find_all('tr'):\n",
    "        #tds = tr.find_all('td')\n",
    "        ticker = tr.find('a', class_='tv-screener__symbol')\n",
    "        stock_name = tr.find('span', class_='tv-screener__description')\n",
    "        if None in (ticker, stock_name):\n",
    "            continue\n",
    "        ticker_data.append(ticker.text.strip())\n",
    "        stockname_data.append(stock_name.text.strip())\n",
    "    driver2.quit()\n",
    "    df = pd.DataFrame(ticker_data, stockname_data)\n",
    "    \n",
    "    # Change 'C:/Users/Shreyas Kulkarni/Desktop/Varshini/' to whichever folder you want\n",
    "    df.to_csv('C:/Users/Shreyas Kulkarni/Desktop/Varshini/' + industry_name + '.csv')\n",
    "    \n",
    "driver = webdriver.Chrome(options=options, executable_path=DRIVER_PATH)\n",
    "driver.get(\"https://www.tradingview.com/markets/stocks-usa/sectorandindustry-industry/\")\n",
    "\n",
    "soup = BeautifulSoup(driver.page_source, 'html.parser')\n",
    "\n",
    "i = 0\n",
    "for tr in soup.find_all('a', class_='tv-screener__symbol'):\n",
    "    if i%2 != 0:\n",
    "        i = i+1\n",
    "        continue\n",
    "    url = \"https://www.tradingview.com\" + tr.get('href')\n",
    "    industry_name = tr.text.strip()\n",
    "    industry_name = industry_name.replace('/', ' ')\n",
    "    scrapeTradingview(url, industry_name)\n",
    "    i = i+1"
   ]
  },
  {
   "cell_type": "code",
   "execution_count": null,
   "metadata": {},
   "outputs": [],
   "source": []
  }
 ],
 "metadata": {
  "kernelspec": {
   "display_name": "Python 3",
   "language": "python",
   "name": "python3"
  },
  "language_info": {
   "codemirror_mode": {
    "name": "ipython",
    "version": 3
   },
   "file_extension": ".py",
   "mimetype": "text/x-python",
   "name": "python",
   "nbconvert_exporter": "python",
   "pygments_lexer": "ipython3",
   "version": "3.7.2"
  }
 },
 "nbformat": 4,
 "nbformat_minor": 4
}
